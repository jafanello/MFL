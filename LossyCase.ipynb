{
 "cells": [
  {
   "cell_type": "code",
   "execution_count": 1,
   "metadata": {
    "collapsed": true
   },
   "outputs": [],
   "source": [
    "import numpy as np\n",
    "import qinfer as qi\n",
    "from functools import partial"
   ]
  },
  {
   "cell_type": "code",
   "execution_count": 2,
   "metadata": {
    "collapsed": true
   },
   "outputs": [],
   "source": [
    "import matplotlib.pyplot as plt\n",
    "%matplotlib inline\n",
    "plt.style.use('ggplot')"
   ]
  },
  {
   "cell_type": "code",
   "execution_count": 3,
   "metadata": {
    "collapsed": true
   },
   "outputs": [],
   "source": [
    "omega_max = 100\n",
    "true_omega = 70.3\n",
    "ts = np.arange(1, 51) / (2 * omega_max)\n",
    "n_shots = 1\n",
    "pr1s = np.sin(true_omega * ts / 2) ** 2\n",
    "counts = np.random.binomial(n_shots, p=pr1s)"
   ]
  },
  {
   "cell_type": "code",
   "execution_count": 4,
   "metadata": {
    "collapsed": false
   },
   "outputs": [
    {
     "data": {
      "text/plain": [
       "0.5"
      ]
     },
     "execution_count": 4,
     "metadata": {},
     "output_type": "execute_result"
    }
   ],
   "source": [
    "# the binomial noise should leave (almost) unaltered the balance 0_VS_1, but as a double check...\n",
    "np.mean(counts)"
   ]
  },
  {
   "cell_type": "code",
   "execution_count": 5,
   "metadata": {
    "collapsed": false
   },
   "outputs": [
    {
     "name": "stdout",
     "output_type": "stream",
     "text": [
      "71.5492869861 1.33530586319\n"
     ]
    }
   ],
   "source": [
    "data = np.column_stack([counts, ts, np.ones_like(counts) * n_shots])\n",
    "mean, cov = qi.simple_est_prec(data, freq_max=omega_max)\n",
    "\n",
    "print(mean, cov)"
   ]
  },
  {
   "cell_type": "code",
   "execution_count": 19,
   "metadata": {
    "collapsed": false
   },
   "outputs": [
    {
     "data": {
      "text/plain": [
       "array([[ 0.   ,  0.005,  1.   ],\n",
       "       [ 0.   ,  0.01 ,  1.   ],\n",
       "       [ 0.   ,  0.015,  1.   ],\n",
       "       [ 0.   ,  0.02 ,  1.   ],\n",
       "       [ 0.   ,  0.025,  1.   ],\n",
       "       [ 0.   ,  0.03 ,  1.   ],\n",
       "       [ 0.   ,  0.035,  1.   ],\n",
       "       [ 1.   ,  0.04 ,  1.   ],\n",
       "       [ 1.   ,  0.045,  1.   ],\n",
       "       [ 0.   ,  0.05 ,  1.   ]])"
      ]
     },
     "execution_count": 19,
     "metadata": {},
     "output_type": "execute_result"
    }
   ],
   "source": [
    "data[0:10]"
   ]
  },
  {
   "cell_type": "code",
   "execution_count": 6,
   "metadata": {
    "collapsed": true
   },
   "outputs": [],
   "source": [
    "model = qi.BinomialModel(qi.SimplePrecessionModel(0))\n",
    "prior = qi.UniformDistribution([0, 1])\n",
    "\n",
    "data = qi.simple_est.load_data_or_txt(data, [\n",
    "    ('counts', 'uint'),\n",
    "    ('t', float),\n",
    "    ('n_shots', 'uint')\n",
    "])\n",
    "\n",
    "outcomes, expparams = qi.simple_est.data_to_params(data,\n",
    "    model.expparams_dtype,\n",
    "    cols_expparams={\n",
    "        'x': (1, 't'),\n",
    "        'n_meas': (2, 'n_shots')\n",
    "    }\n",
    ")"
   ]
  },
  {
   "cell_type": "code",
   "execution_count": 7,
   "metadata": {
    "collapsed": false
   },
   "outputs": [
    {
     "data": {
      "text/plain": [
       "[<matplotlib.lines.Line2D at 0xc880898>]"
      ]
     },
     "execution_count": 7,
     "metadata": {},
     "output_type": "execute_result"
    },
    {
     "data": {
      "image/png": "[encoded data removed]",
      "text/plain": [
       "<matplotlib.figure.Figure at 0xc560080>"
      ]
     },
     "metadata": {},
     "output_type": "display_data"
    }
   ],
   "source": [
    "other_noises_level = 115/250 \n",
    "\n",
    "counts = np.random.binomial(n_shots, p=np.sin(true_omega * ts / 2) ** 2)\n",
    "plt.plot(counts)"
   ]
  },
  {
   "cell_type": "code",
   "execution_count": 8,
   "metadata": {
    "collapsed": false
   },
   "outputs": [
    {
     "name": "stdout",
     "output_type": "stream",
     "text": [
      "6.75551656856 1.17499503098\n"
     ]
    }
   ],
   "source": [
    "for i in range(len(counts)):\n",
    "    if counts[i]==1:\n",
    "        counts[i] = np.random.binomial(1, p = other_noises_level)\n",
    "        \n",
    "np.sum(counts)/len(counts)\n",
    "\n",
    "data = np.column_stack([counts, ts, np.ones_like(counts) * n_shots])\n",
    "mean, cov = qi.simple_est_prec(data, freq_max=omega_max)\n",
    "\n",
    "print(mean, cov)"
   ]
  },
  {
   "cell_type": "code",
   "execution_count": 9,
   "metadata": {
    "collapsed": true
   },
   "outputs": [],
   "source": [
    "class AsymmetricLossModel(qi.DerivedModel, qi.FiniteOutcomeModel):\n",
    "    \"\"\"\n",
    "    Model representing the case in which a two-outcome model is subject\n",
    "    to asymmetric loss, such that\n",
    "    \n",
    "        Pr(1 | modelparams; expparams) = η Pr(1 | modelparams; expparams, no loss),\n",
    "        Pr(0 | modelparams; expparams)\n",
    "            = Pr(0 | modelparams; expparams, no loss) + (1 - η) Pr(1 | modelparams; expparams, no loss)\n",
    "            = 1 - Pr(1 | modelparams; expparams, no loss) + (1 - η) Pr(1 | modelparams; expparams, no loss)\n",
    "            = 1 - η Pr(1 | modelparams; expparams, no loss)\n",
    "            = 1 - Pr(1 | modelparams; expparams).\n",
    "        \n",
    "    This model considers η to be *known* and given at initialization time, rather than as a model parameter to be\n",
    "    estimated.\n",
    "    \"\"\"\n",
    "    \n",
    "    def __init__(self, underlying_model, eta=1.0):\n",
    "        super(AsymmetricLossModel, self).__init__(underlying_model)\n",
    "        self._eta = float(eta)\n",
    "        \n",
    "        if not (underlying_model.is_n_outcomes_constant and underlying_model.n_outcomes(None) == 2):\n",
    "            raise ValueError(\"Decorated model must be a two-outcome model.\")\n",
    "    \n",
    "    ## METHODS ##\n",
    "    \n",
    "\n",
    "    def likelihood(self, outcomes, modelparams, expparams):\n",
    "        # By calling the superclass implementation, we can consolidate\n",
    "        # call counting there.\n",
    "        super(AsymmetricLossModel, self).likelihood(outcomes, modelparams, expparams)\n",
    "        \n",
    "        pr1 = self._eta * self.underlying_model.likelihood(\n",
    "            np.array([1], dtype='uint'),\n",
    "            modelparams,\n",
    "            expparams\n",
    "        )[0, :, :]\n",
    "        \n",
    "        # Now we concatenate over outcomes.\n",
    "        L = qi.FiniteOutcomeModel.pr0_to_likelihood_array(outcomes, 1 - pr1)\n",
    "        assert not np.any(np.isnan(L))\n",
    "        return L"
   ]
  },
  {
   "cell_type": "code",
   "execution_count": 10,
   "metadata": {
    "collapsed": true
   },
   "outputs": [],
   "source": [
    "base_model = qi.SimplePrecessionModel(0)\n",
    "no_loss_model = qi.BinomialModel(base_model)\n",
    "lossy_model = qi.BinomialModel(AsymmetricLossModel(base_model, eta=other_noises_level))"
   ]
  },
  {
   "cell_type": "code",
   "execution_count": 11,
   "metadata": {
    "collapsed": true
   },
   "outputs": [],
   "source": [
    "def heuristic(updater, n_shots=1, max_n_experiments=500):\n",
    "    ts = np.arange(1, 1 + max_n_experiments) / (2 * omega_max)\n",
    "    expparams = np.empty((1,), dtype=updater.model.expparams_dtype)\n",
    "    expparams['n_meas'] = n_shots\n",
    "    \n",
    "    t_iter = iter(ts)\n",
    "    \n",
    "    def next_experiment():\n",
    "        expparams['x'] = next(t_iter)\n",
    "        return expparams\n",
    "        \n",
    "    return next_experiment"
   ]
  },
  {
   "cell_type": "code",
   "execution_count": 12,
   "metadata": {
    "collapsed": true
   },
   "outputs": [],
   "source": [
    "perf_matched = qi.perf_test_multiple(\n",
    "    40, lossy_model, 4000, qi.UniformDistribution([0, omega_max]), 50, heuristic\n",
    ")"
   ]
  },
  {
   "cell_type": "code",
   "execution_count": 13,
   "metadata": {
    "collapsed": true
   },
   "outputs": [],
   "source": [
    "perf_mismatched = qi.perf_test_multiple(\n",
    "    40, no_loss_model, 4000, qi.UniformDistribution([0, omega_max]), 50, heuristic,\n",
    "    true_model=lossy_model\n",
    ")"
   ]
  },
  {
   "cell_type": "code",
   "execution_count": 14,
   "metadata": {
    "collapsed": false
   },
   "outputs": [
    {
     "data": {
      "text/plain": [
       "<matplotlib.legend.Legend at 0x77009b0>"
      ]
     },
     "execution_count": 14,
     "metadata": {},
     "output_type": "execute_result"
    },
    {
     "data": {
      "image/png": "[encoded data removed]",
      "text/plain": [
       "<matplotlib.figure.Figure at 0xc577f28>"
      ]
     },
     "metadata": {},
     "output_type": "display_data"
    }
   ],
   "source": [
    "plt.semilogy(np.mean(perf_matched['loss'], axis=0), label='Matched')\n",
    "plt.semilogy(np.mean(perf_mismatched['loss'], axis=0), label='Mismatched')\n",
    "plt.legend()"
   ]
  },
  {
   "cell_type": "code",
   "execution_count": 16,
   "metadata": {
    "collapsed": true
   },
   "outputs": [],
   "source": [
    "perf_matched_repeated = qi.perf_test_multiple(\n",
    "    10, lossy_model, 16000, qi.UniformDistribution([0, omega_max]), 50, partial(heuristic, n_shots=1)\n",
    ")"
   ]
  },
  {
   "cell_type": "code",
   "execution_count": 17,
   "metadata": {
    "collapsed": true
   },
   "outputs": [],
   "source": [
    "perf_mismatched_repeated = qi.perf_test_multiple(\n",
    "    10, no_loss_model, 16000, qi.UniformDistribution([0, omega_max]), 50, partial(heuristic, n_shots=1),\n",
    "    true_model=lossy_model, allow_failures=True\n",
    ")"
   ]
  },
  {
   "cell_type": "code",
   "execution_count": 18,
   "metadata": {
    "collapsed": false
   },
   "outputs": [
    {
     "data": {
      "text/plain": [
       "<matplotlib.legend.Legend at 0x7a23d30>"
      ]
     },
     "execution_count": 18,
     "metadata": {},
     "output_type": "execute_result"
    },
    {
     "data": {
      "image/png": "[encoded data removed]",
      "text/plain": [
       "<matplotlib.figure.Figure at 0x782e9e8>"
      ]
     },
     "metadata": {},
     "output_type": "display_data"
    }
   ],
   "source": [
    "plt.semilogy(np.mean(perf_matched_repeated['loss'], axis=0), label='Matched')\n",
    "plt.semilogy(np.mean(perf_mismatched_repeated['loss'], axis=0), label='Mismatched')\n",
    "plt.legend()"
   ]
  },
  {
   "cell_type": "code",
   "execution_count": null,
   "metadata": {
    "collapsed": true
   },
   "outputs": [],
   "source": []
  }
 ],
 "metadata": {
  "anaconda-cloud": {},
  "kernelspec": {
   "display_name": "Python [conda root]",
   "language": "python",
   "name": "conda-root-py"
  },
  "language_info": {
   "codemirror_mode": {
    "name": "ipython",
    "version": 3
   },
   "file_extension": ".py",
   "mimetype": "text/x-python",
   "name": "python",
   "nbconvert_exporter": "python",
   "pygments_lexer": "ipython3",
   "version": "3.5.2"
  }
 },
 "nbformat": 4,
 "nbformat_minor": 1
}

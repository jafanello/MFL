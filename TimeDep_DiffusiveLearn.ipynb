{
 "cells": [
  {
   "cell_type": "code",
   "execution_count": 1,
   "metadata": {
    "collapsed": false
   },
   "outputs": [],
   "source": [
    "%matplotlib inline\n",
    "\n",
    "import qinfer as qi\n",
    "import numpy as np\n",
    "import matplotlib.pyplot as plt\n",
    "from IPython.display import display, Math, Latex"
   ]
  },
  {
   "cell_type": "code",
   "execution_count": 20,
   "metadata": {
    "collapsed": true
   },
   "outputs": [],
   "source": [
    "class DiffusivePrecessionModel(qi.SimplePrecessionModel):\n",
    "    diffusion_rate = 0.001 # We'll multiply this by\n",
    "                             # sqrt(time) below.\n",
    "\n",
    "    def update_timestep(self, modelparams, expparams):\n",
    "        step_std_dev = self.diffusion_rate * np.sqrt(expparams)\n",
    "        steps = step_std_dev * np.random.randn(\n",
    "            modelparams.shape[0], 1, expparams.shape[0]\n",
    "        )\n",
    "        \n",
    "        print(\"model\", modelparams)\n",
    "        print(\"exp\", expparams)\n",
    "        \n",
    "        print(\"steps\", steps)\n",
    "        # Finally, we add a new axis to the input model parameters\n",
    "        # to match the experiment parameters.\n",
    "        return modelparams[:, :, np.newaxis] + steps"
   ]
  },
  {
   "cell_type": "code",
   "execution_count": 30,
   "metadata": {
    "collapsed": false
   },
   "outputs": [],
   "source": [
    "modelparams = np.array([[1]])\n",
    "expparams =  np.array([1])\n",
    "\n"
   ]
  },
  {
   "cell_type": "code",
   "execution_count": 27,
   "metadata": {
    "collapsed": false
   },
   "outputs": [
    {
     "data": {
      "text/plain": [
       "(1, 1, 1)"
      ]
     },
     "execution_count": 27,
     "metadata": {},
     "output_type": "execute_result"
    }
   ],
   "source": [
    "modelparams.shape[0], 1, expparams.shape[0]"
   ]
  },
  {
   "cell_type": "code",
   "execution_count": 22,
   "metadata": {
    "collapsed": false
   },
   "outputs": [],
   "source": [
    "model = DiffusivePrecessionModel()\n",
    "prior = qi.UniformDistribution([0, 1])\n",
    "updater = qi.SMCUpdater(model, 10, prior)\n",
    "\n",
    "expparams = np.empty((1, ), dtype=model.expparams_dtype)\n",
    "\n",
    "true_trajectory = []\n",
    "est_trajectory = []\n",
    "\n",
    "true_params = prior.sample()"
   ]
  },
  {
   "cell_type": "code",
   "execution_count": 23,
   "metadata": {
    "collapsed": false
   },
   "outputs": [
    {
     "name": "stdout",
     "output_type": "stream",
     "text": [
      "model [[ 0.84510387]\n",
      " [ 0.24262005]\n",
      " [ 0.33187104]\n",
      " [ 0.61933987]\n",
      " [ 0.85557364]\n",
      " [ 0.23265793]\n",
      " [ 0.59603482]\n",
      " [ 0.03884378]\n",
      " [ 0.95497046]\n",
      " [ 0.55976514]]\n",
      "exp [ 13.22114977]\n",
      "steps [[[-0.00429729]]\n",
      "\n",
      " [[ 0.00135643]]\n",
      "\n",
      " [[-0.00176864]]\n",
      "\n",
      " [[ 0.00724147]]\n",
      "\n",
      " [[-0.00305596]]\n",
      "\n",
      " [[-0.00236042]]\n",
      "\n",
      " [[-0.00343435]]\n",
      "\n",
      " [[ 0.00230887]]\n",
      "\n",
      " [[-0.00838529]]\n",
      "\n",
      " [[ 0.00174435]]]\n",
      "model [[ 0.28522007]]\n",
      "exp [ 13.22114977]\n",
      "steps [[[-0.00401021]]]\n"
     ]
    },
    {
     "name": "stderr",
     "output_type": "stream",
     "text": [
      "C:\\Program Files\\Anaconda3\\lib\\site-packages\\qinfer\\smc.py:285: ApproximationWarning: Extremely small n_ess encountered (6.952140834077406). Resampling is likely to fail. Consider adding particles, or resampling more often.\n",
      "  ApproximationWarning\n"
     ]
    }
   ],
   "source": [
    "for idx_exp in range(1):\n",
    "    expparams[0] = np.random.random() * 10 * np.pi\n",
    "    datum = model.simulate_experiment(true_params, expparams)\n",
    "    updater.update(datum, expparams)\n",
    "\n",
    "    true_params = model.update_timestep(true_params, expparams)[:, :, 0]\n",
    "\n",
    "    true_trajectory.append(true_params[0])\n",
    "    est_trajectory.append(updater.est_mean())"
   ]
  },
  {
   "cell_type": "code",
   "execution_count": 5,
   "metadata": {
    "collapsed": false
   },
   "outputs": [
    {
     "data": {
      "image/png": "[encoded data removed]",
      "text/plain": [
       "<matplotlib.figure.Figure at 0xbee6c50>"
      ]
     },
     "metadata": {},
     "output_type": "display_data"
    }
   ],
   "source": [
    "plt.plot(true_trajectory, label='True')\n",
    "plt.plot(est_trajectory, label='Est.')\n",
    "plt.legend()\n",
    "plt.xlabel('# of Measurements')\n",
    "plt.ylabel(r'$\\omega$')\n",
    "\n",
    "plt.show()"
   ]
  },
  {
   "cell_type": "code",
   "execution_count": 509,
   "metadata": {
    "collapsed": true
   },
   "outputs": [],
   "source": [
    "%run nv_sensing_lib.py"
   ]
  },
  {
   "cell_type": "code",
   "execution_count": 510,
   "metadata": {
    "collapsed": false
   },
   "outputs": [],
   "source": [
    "class SinusoidalPrecessionModel(qi.SimplePrecessionModel):\n",
    "    freq_rate = 0.007\n",
    "    amplitude = 0.02\n",
    "    \n",
    "    start = np.array([[0.5]])\n",
    "    \n",
    "    @property\n",
    "    def expparams_dtype(self):\n",
    "        return [('t', 'float'), ('w_', 'float')]\n",
    "\n",
    "    def update_timestep(self, modelparams, expparams):\n",
    "        # Finally, we add a new axis to the input model parameters\n",
    "        # to match the experiment parameters.\n",
    "#         return modelparams[:, :, np.newaxis] \n",
    "\n",
    "        if modelparams.shape[0] == 1:\n",
    "            steps = np.ones(  (modelparams.shape[0], 1, expparams.shape[0]) ) * self.amplitude * np.cos(self.freq_rate*expparams[0][0])\n",
    "            return self.start[:, :, np.newaxis] + steps\n",
    "        else:\n",
    "            steps = self.amplitude * self.freq_rate * 2 * np.random.randn(modelparams.shape[0], 1, expparams.shape[0])\n",
    "            return modelparams[:, :, np.newaxis] + steps"
   ]
  },
  {
   "cell_type": "code",
   "execution_count": 511,
   "metadata": {
    "collapsed": false
   },
   "outputs": [],
   "source": [
    "model = SinusoidalPrecessionModel()\n",
    "prior = qi.UniformDistribution([0.45, 0.55])\n",
    "updater = qi.SMCUpdater(model, 2000, prior, resample_a=0.92, resample_thresh=0.4)\n",
    "heuristic = stdPGH(updater, inv_field='w_')   \n",
    "\n",
    "expparams = np.empty((1, ), dtype=model.expparams_dtype)\n",
    "experiment = heuristic()\n",
    "\n",
    "true_params = np.array([[0.5]]) #prior.sample()\n",
    "brake_sigma = 0.02/100"
   ]
  },
  {
   "cell_type": "code",
   "execution_count": 512,
   "metadata": {
    "collapsed": false
   },
   "outputs": [],
   "source": [
    "true_trajectory = []\n",
    "est_trajectory = []\n",
    "track_cov = []\n",
    "\n",
    "for idx_exp in range(2000):\n",
    "    experiment = heuristic()\n",
    "\n",
    "    expparams[0][0] = idx_exp\n",
    "    \n",
    "    datum = model.simulate_experiment(true_params, experiment)\n",
    "    updater.update(datum, experiment)\n",
    "\n",
    "    true_params = model.update_timestep(true_params, expparams)[:, :, 0]\n",
    "    \n",
    "    track_cov.append( np.sqrt( updater.est_covariance_mtx() ) )\n",
    "\n",
    "    true_trajectory.append(true_params[0])\n",
    "    est_trajectory.append(updater.est_mean())"
   ]
  },
  {
   "cell_type": "code",
   "execution_count": 513,
   "metadata": {
    "collapsed": false
   },
   "outputs": [
    {
     "data": {
      "image/png": "[encoded data removed]",
      "text/plain": [
       "<matplotlib.figure.Figure at 0xc75bbe0>"
      ]
     },
     "metadata": {},
     "output_type": "display_data"
    }
   ],
   "source": [
    "plt.plot(true_trajectory, label='True')\n",
    "plt.plot(est_trajectory, label='Est.')\n",
    "plt.legend(loc='upper right')\n",
    "plt.xlabel('epoch')\n",
    "plt.ylabel(r'$\\omega$')\n",
    "\n",
    "plt.xlim(0,2000)\n",
    "\n",
    "plt.show()"
   ]
  },
  {
   "cell_type": "code",
   "execution_count": null,
   "metadata": {
    "collapsed": true
   },
   "outputs": [],
   "source": []
  }
 ],
 "metadata": {
  "kernelspec": {
   "display_name": "Python [default]",
   "language": "python",
   "name": "python3"
  },
  "language_info": {
   "codemirror_mode": {
    "name": "ipython",
    "version": 3
   },
   "file_extension": ".py",
   "mimetype": "text/x-python",
   "name": "python",
   "nbconvert_exporter": "python",
   "pygments_lexer": "ipython3",
   "version": "3.5.2"
  }
 },
 "nbformat": 4,
 "nbformat_minor": 0
}
